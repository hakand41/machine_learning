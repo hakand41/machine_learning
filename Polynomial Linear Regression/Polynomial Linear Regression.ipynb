{
 "cells": [
  {
   "cell_type": "code",
   "execution_count": 1,
   "id": "b22eea9b-5bd5-4c83-a301-7bfd7eda074b",
   "metadata": {},
   "outputs": [],
   "source": [
    "import pandas as pd\n",
    "import numpy as np\n",
    "import matplotlib.pyplot as plt"
   ]
  },
  {
   "cell_type": "code",
   "execution_count": 2,
   "id": "964ce44e-7603-441d-996e-51d273edf54e",
   "metadata": {},
   "outputs": [],
   "source": [
    "df = pd.read_csv(\"polynomial_regression.csv\", sep = \";\")"
   ]
  },
  {
   "cell_type": "code",
   "execution_count": 3,
   "id": "fabd2061-ee02-420d-a2f7-f37d7913505e",
   "metadata": {},
   "outputs": [
    {
     "data": {
      "text/html": [
       "<div>\n",
       "<style scoped>\n",
       "    .dataframe tbody tr th:only-of-type {\n",
       "        vertical-align: middle;\n",
       "    }\n",
       "\n",
       "    .dataframe tbody tr th {\n",
       "        vertical-align: top;\n",
       "    }\n",
       "\n",
       "    .dataframe thead th {\n",
       "        text-align: right;\n",
       "    }\n",
       "</style>\n",
       "<table border=\"1\" class=\"dataframe\">\n",
       "  <thead>\n",
       "    <tr style=\"text-align: right;\">\n",
       "      <th></th>\n",
       "      <th>araba_fiyat</th>\n",
       "      <th>araba_max_hiz</th>\n",
       "    </tr>\n",
       "  </thead>\n",
       "  <tbody>\n",
       "    <tr>\n",
       "      <th>0</th>\n",
       "      <td>60</td>\n",
       "      <td>180</td>\n",
       "    </tr>\n",
       "    <tr>\n",
       "      <th>1</th>\n",
       "      <td>70</td>\n",
       "      <td>180</td>\n",
       "    </tr>\n",
       "    <tr>\n",
       "      <th>2</th>\n",
       "      <td>80</td>\n",
       "      <td>200</td>\n",
       "    </tr>\n",
       "    <tr>\n",
       "      <th>3</th>\n",
       "      <td>100</td>\n",
       "      <td>200</td>\n",
       "    </tr>\n",
       "    <tr>\n",
       "      <th>4</th>\n",
       "      <td>120</td>\n",
       "      <td>200</td>\n",
       "    </tr>\n",
       "    <tr>\n",
       "      <th>5</th>\n",
       "      <td>150</td>\n",
       "      <td>220</td>\n",
       "    </tr>\n",
       "    <tr>\n",
       "      <th>6</th>\n",
       "      <td>200</td>\n",
       "      <td>240</td>\n",
       "    </tr>\n",
       "    <tr>\n",
       "      <th>7</th>\n",
       "      <td>250</td>\n",
       "      <td>240</td>\n",
       "    </tr>\n",
       "    <tr>\n",
       "      <th>8</th>\n",
       "      <td>300</td>\n",
       "      <td>300</td>\n",
       "    </tr>\n",
       "    <tr>\n",
       "      <th>9</th>\n",
       "      <td>400</td>\n",
       "      <td>350</td>\n",
       "    </tr>\n",
       "    <tr>\n",
       "      <th>10</th>\n",
       "      <td>500</td>\n",
       "      <td>350</td>\n",
       "    </tr>\n",
       "    <tr>\n",
       "      <th>11</th>\n",
       "      <td>750</td>\n",
       "      <td>360</td>\n",
       "    </tr>\n",
       "    <tr>\n",
       "      <th>12</th>\n",
       "      <td>1000</td>\n",
       "      <td>365</td>\n",
       "    </tr>\n",
       "    <tr>\n",
       "      <th>13</th>\n",
       "      <td>2000</td>\n",
       "      <td>365</td>\n",
       "    </tr>\n",
       "    <tr>\n",
       "      <th>14</th>\n",
       "      <td>3000</td>\n",
       "      <td>365</td>\n",
       "    </tr>\n",
       "  </tbody>\n",
       "</table>\n",
       "</div>"
      ],
      "text/plain": [
       "    araba_fiyat  araba_max_hiz\n",
       "0            60            180\n",
       "1            70            180\n",
       "2            80            200\n",
       "3           100            200\n",
       "4           120            200\n",
       "5           150            220\n",
       "6           200            240\n",
       "7           250            240\n",
       "8           300            300\n",
       "9           400            350\n",
       "10          500            350\n",
       "11          750            360\n",
       "12         1000            365\n",
       "13         2000            365\n",
       "14         3000            365"
      ]
     },
     "execution_count": 3,
     "metadata": {},
     "output_type": "execute_result"
    }
   ],
   "source": [
    "df"
   ]
  },
  {
   "cell_type": "code",
   "execution_count": 8,
   "id": "457fec66-695d-4cfc-aaf4-19229d4e58fc",
   "metadata": {},
   "outputs": [],
   "source": [
    "x = df.araba_max_hiz.values.reshape(-1, 1)\n",
    "y = df.araba_fiyat.values.reshape(-1, 1)"
   ]
  },
  {
   "cell_type": "code",
   "execution_count": 9,
   "id": "ace25b83-acd3-4e4f-9a8f-9006a9e4a126",
   "metadata": {},
   "outputs": [
    {
     "data": {
      "text/plain": [
       "array([[  60],\n",
       "       [  70],\n",
       "       [  80],\n",
       "       [ 100],\n",
       "       [ 120],\n",
       "       [ 150],\n",
       "       [ 200],\n",
       "       [ 250],\n",
       "       [ 300],\n",
       "       [ 400],\n",
       "       [ 500],\n",
       "       [ 750],\n",
       "       [1000],\n",
       "       [2000],\n",
       "       [3000]], dtype=int64)"
      ]
     },
     "execution_count": 9,
     "metadata": {},
     "output_type": "execute_result"
    }
   ],
   "source": [
    "x\n",
    "y"
   ]
  },
  {
   "cell_type": "code",
   "execution_count": 10,
   "id": "07ad84b3-97bb-4a93-8622-265f04226b23",
   "metadata": {},
   "outputs": [
    {
     "data": {
      "text/plain": [
       "array([[180],\n",
       "       [180],\n",
       "       [200],\n",
       "       [200],\n",
       "       [200],\n",
       "       [220],\n",
       "       [240],\n",
       "       [240],\n",
       "       [300],\n",
       "       [350],\n",
       "       [350],\n",
       "       [360],\n",
       "       [365],\n",
       "       [365],\n",
       "       [365]], dtype=int64)"
      ]
     },
     "execution_count": 10,
     "metadata": {},
     "output_type": "execute_result"
    }
   ],
   "source": [
    "x"
   ]
  },
  {
   "cell_type": "code",
   "execution_count": 12,
   "id": "800120e6-4f87-40c1-a0ce-ec7534a80e75",
   "metadata": {},
   "outputs": [
    {
     "data": {
      "image/png": "[encoded data removed]",
      "text/plain": [
       "<Figure size 640x480 with 1 Axes>"
      ]
     },
     "metadata": {},
     "output_type": "display_data"
    }
   ],
   "source": [
    "plt.scatter(x, y)\n",
    "plt.xlabel(\"Max Hız\")\n",
    "plt.ylabel(\"Fiyat\")\n",
    "plt.show()"
   ]
  },
  {
   "cell_type": "code",
   "execution_count": 13,
   "id": "cc40111b-f2f0-4291-b290-572f310bb37b",
   "metadata": {},
   "outputs": [],
   "source": [
    "from sklearn.linear_model import LinearRegression"
   ]
  },
  {
   "cell_type": "code",
   "execution_count": 14,
   "id": "f3014725-6469-499b-8732-bfa3233c69ab",
   "metadata": {},
   "outputs": [],
   "source": [
    "lr = LinearRegression()"
   ]
  },
  {
   "cell_type": "code",
   "execution_count": 15,
   "id": "8db70806-b8af-4969-9957-a606530b5429",
   "metadata": {},
   "outputs": [
    {
     "data": {
      "text/plain": [
       "LinearRegression()"
      ]
     },
     "execution_count": 15,
     "metadata": {},
     "output_type": "execute_result"
    }
   ],
   "source": [
    "lr.fit(x,y)"
   ]
  },
  {
   "cell_type": "code",
   "execution_count": 17,
   "id": "cb1cc53f-f1ea-4dc9-a384-359702860913",
   "metadata": {},
   "outputs": [
    {
     "data": {
      "text/plain": [
       "array([[7.46940886]])"
      ]
     },
     "execution_count": 17,
     "metadata": {},
     "output_type": "execute_result"
    }
   ],
   "source": [
    "lr.coef_"
   ]
  },
  {
   "cell_type": "code",
   "execution_count": 20,
   "id": "3971238a-0710-43b1-a633-194a9bbcb513",
   "metadata": {},
   "outputs": [
    {
     "data": {
      "text/plain": [
       "array([-1450.44116477])"
      ]
     },
     "execution_count": 20,
     "metadata": {},
     "output_type": "execute_result"
    }
   ],
   "source": [
    "lr.intercept_"
   ]
  },
  {
   "cell_type": "code",
   "execution_count": 22,
   "id": "e9858a06-05c5-45e4-be44-0e4dc4a0880d",
   "metadata": {},
   "outputs": [],
   "source": [
    "y_head = lr.predict(x)"
   ]
  },
  {
   "cell_type": "code",
   "execution_count": 28,
   "id": "3d12bbde-48c1-460f-922b-00efce803082",
   "metadata": {},
   "outputs": [
    {
     "data": {
      "image/png": "[encoded data removed]",
      "text/plain": [
       "<Figure size 640x480 with 1 Axes>"
      ]
     },
     "metadata": {},
     "output_type": "display_data"
    }
   ],
   "source": [
    "plt.plot(x,y_head)\n",
    "plt.scatter(x,y)\n",
    "plt.show()"
   ]
  },
  {
   "cell_type": "code",
   "execution_count": 36,
   "id": "865da342-3733-4ea6-9d73-2b70054dbb0e",
   "metadata": {},
   "outputs": [
    {
     "data": {
      "text/plain": [
       "array([[1163.85193731]])"
      ]
     },
     "execution_count": 36,
     "metadata": {},
     "output_type": "execute_result"
    }
   ],
   "source": [
    "lr.predict([[350]])"
   ]
  },
  {
   "cell_type": "markdown",
   "id": "ad00f443-0407-4771-bc1e-376f230e2958",
   "metadata": {},
   "source": [
    "### Polynomial Regression"
   ]
  },
  {
   "cell_type": "code",
   "execution_count": 38,
   "id": "8ca42c95-0b22-4870-be93-b6fda945b555",
   "metadata": {},
   "outputs": [],
   "source": [
    "from sklearn.preprocessing import PolynomialFeatures"
   ]
  },
  {
   "cell_type": "code",
   "execution_count": 49,
   "id": "0ed7d8fb-7b10-4b14-91eb-752e2983f280",
   "metadata": {},
   "outputs": [],
   "source": [
    "pol_reg = PolynomialFeatures(degree = 4)"
   ]
  },
  {
   "cell_type": "code",
   "execution_count": 50,
   "id": "aeacd774-8b76-4aa2-acb4-717b88592f2a",
   "metadata": {},
   "outputs": [],
   "source": [
    "x_pol = pol_reg.fit_transform(x)"
   ]
  },
  {
   "cell_type": "code",
   "execution_count": 51,
   "id": "765b74a2-1f45-4e16-a9a9-82604f30affb",
   "metadata": {},
   "outputs": [
    {
     "data": {
      "text/plain": [
       "array([[1.00000000e+00, 1.80000000e+02, 3.24000000e+04, 5.83200000e+06,\n",
       "        1.04976000e+09],\n",
       "       [1.00000000e+00, 1.80000000e+02, 3.24000000e+04, 5.83200000e+06,\n",
       "        1.04976000e+09],\n",
       "       [1.00000000e+00, 2.00000000e+02, 4.00000000e+04, 8.00000000e+06,\n",
       "        1.60000000e+09],\n",
       "       [1.00000000e+00, 2.00000000e+02, 4.00000000e+04, 8.00000000e+06,\n",
       "        1.60000000e+09],\n",
       "       [1.00000000e+00, 2.00000000e+02, 4.00000000e+04, 8.00000000e+06,\n",
       "        1.60000000e+09],\n",
       "       [1.00000000e+00, 2.20000000e+02, 4.84000000e+04, 1.06480000e+07,\n",
       "        2.34256000e+09],\n",
       "       [1.00000000e+00, 2.40000000e+02, 5.76000000e+04, 1.38240000e+07,\n",
       "        3.31776000e+09],\n",
       "       [1.00000000e+00, 2.40000000e+02, 5.76000000e+04, 1.38240000e+07,\n",
       "        3.31776000e+09],\n",
       "       [1.00000000e+00, 3.00000000e+02, 9.00000000e+04, 2.70000000e+07,\n",
       "        8.10000000e+09],\n",
       "       [1.00000000e+00, 3.50000000e+02, 1.22500000e+05, 4.28750000e+07,\n",
       "        1.50062500e+10],\n",
       "       [1.00000000e+00, 3.50000000e+02, 1.22500000e+05, 4.28750000e+07,\n",
       "        1.50062500e+10],\n",
       "       [1.00000000e+00, 3.60000000e+02, 1.29600000e+05, 4.66560000e+07,\n",
       "        1.67961600e+10],\n",
       "       [1.00000000e+00, 3.65000000e+02, 1.33225000e+05, 4.86271250e+07,\n",
       "        1.77489006e+10],\n",
       "       [1.00000000e+00, 3.65000000e+02, 1.33225000e+05, 4.86271250e+07,\n",
       "        1.77489006e+10],\n",
       "       [1.00000000e+00, 3.65000000e+02, 1.33225000e+05, 4.86271250e+07,\n",
       "        1.77489006e+10]])"
      ]
     },
     "execution_count": 51,
     "metadata": {},
     "output_type": "execute_result"
    }
   ],
   "source": [
    "x_pol"
   ]
  },
  {
   "cell_type": "code",
   "execution_count": 52,
   "id": "921d1f1f-e1e2-4651-9d19-e7f77eb6fdea",
   "metadata": {},
   "outputs": [],
   "source": [
    "lin_reg2 = LinearRegression()"
   ]
  },
  {
   "cell_type": "code",
   "execution_count": 53,
   "id": "0fc6ed60-b452-48ad-b648-f3613c999999",
   "metadata": {},
   "outputs": [
    {
     "data": {
      "text/plain": [
       "LinearRegression()"
      ]
     },
     "execution_count": 53,
     "metadata": {},
     "output_type": "execute_result"
    }
   ],
   "source": [
    "lin_reg2.fit(x_pol,y)"
   ]
  },
  {
   "cell_type": "code",
   "execution_count": 54,
   "id": "8ed0c343-ad83-4e65-b1da-86392e638063",
   "metadata": {},
   "outputs": [],
   "source": [
    "y_head2 = lin_reg2.predict(x_pol)"
   ]
  },
  {
   "cell_type": "code",
   "execution_count": 55,
   "id": "f65fda17-242f-4ea3-85f4-6a517d13288f",
   "metadata": {},
   "outputs": [
    {
     "data": {
      "image/png": "[encoded data removed]",
      "text/plain": [
       "<Figure size 640x480 with 1 Axes>"
      ]
     },
     "metadata": {},
     "output_type": "display_data"
    }
   ],
   "source": [
    "plt.plot(x,y_head2)\n",
    "plt.scatter(x,y)\n",
    "plt.legend\n",
    "plt.show()"
   ]
  },
  {
   "cell_type": "code",
   "execution_count": null,
   "id": "54eccd55-8e5f-43a8-ad09-f4fd3debc3a8",
   "metadata": {},
   "outputs": [],
   "source": []
  }
 ],
 "metadata": {
  "kernelspec": {
   "display_name": "Python 3 (ipykernel)",
   "language": "python",
   "name": "python3"
  },
  "language_info": {
   "codemirror_mode": {
    "name": "ipython",
    "version": 3
   },
   "file_extension": ".py",
   "mimetype": "text/x-python",
   "name": "python",
   "nbconvert_exporter": "python",
   "pygments_lexer": "ipython3",
   "version": "3.9.13"
  }
 },
 "nbformat": 4,
 "nbformat_minor": 5
}
