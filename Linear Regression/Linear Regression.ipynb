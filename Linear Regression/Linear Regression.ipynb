{
 "cells": [
  {
   "cell_type": "code",
   "execution_count": 1,
   "id": "6aa66df0-7354-49b2-9640-ad7fd41f4153",
   "metadata": {},
   "outputs": [],
   "source": [
    "import pandas as pd"
   ]
  },
  {
   "cell_type": "markdown",
   "id": "41db349e-272e-4c38-b06c-fec1d46e4962",
   "metadata": {},
   "source": [
    "### Veri Okuma"
   ]
  },
  {
   "cell_type": "code",
   "execution_count": 2,
   "id": "b0b60292-b6ad-469b-8a7c-be6657305da6",
   "metadata": {},
   "outputs": [],
   "source": [
    "df = pd.read_csv(\"linear_regression_dataset.csv\", sep=\";\")"
   ]
  },
  {
   "cell_type": "code",
   "execution_count": 3,
   "id": "5cab9669-c299-4c29-891e-0b7e0a1289ab",
   "metadata": {},
   "outputs": [],
   "source": [
    "df.columns = [\"deneyim\", \"maas\"]"
   ]
  },
  {
   "cell_type": "code",
   "execution_count": 4,
   "id": "a7ba4a98-b2cb-4ceb-b94d-6c06c8cc20f9",
   "metadata": {},
   "outputs": [
    {
     "data": {
      "text/html": [
       "<div>\n",
       "<style scoped>\n",
       "    .dataframe tbody tr th:only-of-type {\n",
       "        vertical-align: middle;\n",
       "    }\n",
       "\n",
       "    .dataframe tbody tr th {\n",
       "        vertical-align: top;\n",
       "    }\n",
       "\n",
       "    .dataframe thead th {\n",
       "        text-align: right;\n",
       "    }\n",
       "</style>\n",
       "<table border=\"1\" class=\"dataframe\">\n",
       "  <thead>\n",
       "    <tr style=\"text-align: right;\">\n",
       "      <th></th>\n",
       "      <th>deneyim</th>\n",
       "      <th>maas</th>\n",
       "    </tr>\n",
       "  </thead>\n",
       "  <tbody>\n",
       "    <tr>\n",
       "      <th>0</th>\n",
       "      <td>0.5</td>\n",
       "      <td>2500</td>\n",
       "    </tr>\n",
       "    <tr>\n",
       "      <th>1</th>\n",
       "      <td>0.0</td>\n",
       "      <td>2250</td>\n",
       "    </tr>\n",
       "    <tr>\n",
       "      <th>2</th>\n",
       "      <td>1.0</td>\n",
       "      <td>2750</td>\n",
       "    </tr>\n",
       "    <tr>\n",
       "      <th>3</th>\n",
       "      <td>5.0</td>\n",
       "      <td>8000</td>\n",
       "    </tr>\n",
       "    <tr>\n",
       "      <th>4</th>\n",
       "      <td>8.0</td>\n",
       "      <td>9000</td>\n",
       "    </tr>\n",
       "  </tbody>\n",
       "</table>\n",
       "</div>"
      ],
      "text/plain": [
       "   deneyim  maas\n",
       "0      0.5  2500\n",
       "1      0.0  2250\n",
       "2      1.0  2750\n",
       "3      5.0  8000\n",
       "4      8.0  9000"
      ]
     },
     "execution_count": 4,
     "metadata": {},
     "output_type": "execute_result"
    }
   ],
   "source": [
    "df.head()"
   ]
  },
  {
   "cell_type": "markdown",
   "id": "3f5a2b45-d55f-4976-9d4e-523f2f0ccad3",
   "metadata": {},
   "source": [
    "### Veri Görselleştirme"
   ]
  },
  {
   "cell_type": "code",
   "execution_count": 5,
   "id": "383fdf69-b01f-4e1c-b17c-26e4f7f612fa",
   "metadata": {},
   "outputs": [],
   "source": [
    "import matplotlib.pyplot as plt"
   ]
  },
  {
   "cell_type": "code",
   "execution_count": 6,
   "id": "48afc329-cfa7-472d-8464-6aa3aebc46d5",
   "metadata": {},
   "outputs": [
    {
     "data": {
      "text/plain": [
       "<matplotlib.collections.PathCollection at 0x1f67b986b80>"
      ]
     },
     "execution_count": 6,
     "metadata": {},
     "output_type": "execute_result"
    },
    {
     "data": {
      "image/png": "[encoded data removed]",
      "text/plain": [
       "<Figure size 640x480 with 1 Axes>"
      ]
     },
     "metadata": {},
     "output_type": "display_data"
    }
   ],
   "source": [
    "plt.scatter(df.deneyim, df.maas)"
   ]
  },
  {
   "cell_type": "markdown",
   "id": "b56ddf9b-121b-4c4b-b65c-5e5adf772eb4",
   "metadata": {},
   "source": [
    "### Sklearn"
   ]
  },
  {
   "cell_type": "code",
   "execution_count": 7,
   "id": "f8950ce6-7629-4b16-b171-08fa37a50900",
   "metadata": {},
   "outputs": [],
   "source": [
    "from sklearn.linear_model import LinearRegression"
   ]
  },
  {
   "cell_type": "code",
   "execution_count": 8,
   "id": "7832fc51-9de8-4ffc-ae6c-144f85c6089f",
   "metadata": {},
   "outputs": [],
   "source": [
    "linear_reg = LinearRegression()"
   ]
  },
  {
   "cell_type": "code",
   "execution_count": 9,
   "id": "82677a2f-9110-4ee1-9325-0f8c167e94b5",
   "metadata": {},
   "outputs": [],
   "source": [
    "x = df.deneyim.values.reshape(-1,1)"
   ]
  },
  {
   "cell_type": "code",
   "execution_count": 10,
   "id": "698f70c6-8fa1-4315-bb23-a2e7795433ed",
   "metadata": {},
   "outputs": [],
   "source": [
    "y = df.maas.values.reshape(-1,1)"
   ]
  },
  {
   "cell_type": "code",
   "execution_count": 11,
   "id": "b1dbc4e6-aa88-4d34-9e9b-18820609868e",
   "metadata": {},
   "outputs": [
    {
     "data": {
      "text/plain": [
       "numpy.ndarray"
      ]
     },
     "execution_count": 11,
     "metadata": {},
     "output_type": "execute_result"
    }
   ],
   "source": [
    "type(x)"
   ]
  },
  {
   "cell_type": "code",
   "execution_count": 12,
   "id": "4edb3e39-f7cb-4508-aa29-bb95026f0e34",
   "metadata": {},
   "outputs": [],
   "source": [
    "import numpy as np"
   ]
  },
  {
   "cell_type": "code",
   "execution_count": 13,
   "id": "14ebe85c-85dd-4895-92ff-c7fe0e6b31c6",
   "metadata": {},
   "outputs": [
    {
     "data": {
      "text/plain": [
       "LinearRegression()"
      ]
     },
     "execution_count": 13,
     "metadata": {},
     "output_type": "execute_result"
    }
   ],
   "source": [
    "linear_reg.fit(x,y)"
   ]
  },
  {
   "cell_type": "code",
   "execution_count": 14,
   "id": "33a79f8f-bd30-47e1-b35a-8cfa5a6d0976",
   "metadata": {},
   "outputs": [
    {
     "data": {
      "text/plain": [
       "array([[1663.89519747]])"
      ]
     },
     "execution_count": 14,
     "metadata": {},
     "output_type": "execute_result"
    }
   ],
   "source": [
    "b0 = linear_reg.predict([[0]])\n",
    "b0"
   ]
  },
  {
   "cell_type": "code",
   "execution_count": 15,
   "id": "feec1aa2-4b7f-4a30-a49f-560f7d3994c9",
   "metadata": {},
   "outputs": [
    {
     "data": {
      "text/plain": [
       "array([1663.89519747])"
      ]
     },
     "execution_count": 15,
     "metadata": {},
     "output_type": "execute_result"
    }
   ],
   "source": [
    "b0_ = linear_reg.intercept_\n",
    "b0_"
   ]
  },
  {
   "cell_type": "code",
   "execution_count": 16,
   "id": "02207ab2-60fa-41c6-a984-d686e91a9353",
   "metadata": {},
   "outputs": [
    {
     "data": {
      "text/plain": [
       "array([[1138.34819698]])"
      ]
     },
     "execution_count": 16,
     "metadata": {},
     "output_type": "execute_result"
    }
   ],
   "source": [
    "b1 = linear_reg.coef_\n",
    "b1"
   ]
  },
  {
   "cell_type": "code",
   "execution_count": 17,
   "id": "930f5b8e-f5ae-481f-8f7a-31b7fea5bdae",
   "metadata": {},
   "outputs": [],
   "source": [
    "array = np.array([0, 1, 2, 3, 4, 5, 6, 7, 8, 9, 10, 11, 12, 13, 14, 15]).reshape(-1,1)"
   ]
  },
  {
   "cell_type": "code",
   "execution_count": 18,
   "id": "eb3122bb-56e8-40a5-b24d-ebbdc96d5ee9",
   "metadata": {},
   "outputs": [
    {
     "data": {
      "image/png": "[encoded data removed]",
      "text/plain": [
       "<Figure size 640x480 with 1 Axes>"
      ]
     },
     "metadata": {},
     "output_type": "display_data"
    }
   ],
   "source": [
    "plt.scatter(x,y)\n",
    "plt.show()"
   ]
  },
  {
   "cell_type": "code",
   "execution_count": 19,
   "id": "72639d09-7a1b-4c37-a496-601a674edf58",
   "metadata": {},
   "outputs": [
    {
     "data": {
      "text/plain": [
       "array([[ 1663.89519747],\n",
       "       [ 2802.24339445],\n",
       "       [ 3940.59159143],\n",
       "       [ 5078.9397884 ],\n",
       "       [ 6217.28798538],\n",
       "       [ 7355.63618235],\n",
       "       [ 8493.98437933],\n",
       "       [ 9632.3325763 ],\n",
       "       [10770.68077328],\n",
       "       [11909.02897025],\n",
       "       [13047.37716723],\n",
       "       [14185.72536421],\n",
       "       [15324.07356118],\n",
       "       [16462.42175816],\n",
       "       [17600.76995513],\n",
       "       [18739.11815211]])"
      ]
     },
     "execution_count": 19,
     "metadata": {},
     "output_type": "execute_result"
    }
   ],
   "source": [
    "y_head = linear_reg.predict(array)\n",
    "y_head"
   ]
  },
  {
   "cell_type": "code",
   "execution_count": 20,
   "id": "db77595f-5507-4137-8e28-dea6ce1c1a15",
   "metadata": {},
   "outputs": [
    {
     "data": {
      "image/png": "[encoded data removed]",
      "text/plain": [
       "<Figure size 640x480 with 1 Axes>"
      ]
     },
     "metadata": {},
     "output_type": "display_data"
    }
   ],
   "source": [
    "plt.plot(array, y_head)\n",
    "plt.show()"
   ]
  },
  {
   "cell_type": "markdown",
   "id": "d2773605-947b-4c64-a524-c56797e46636",
   "metadata": {},
   "source": [
    "### R2_SCORE"
   ]
  },
  {
   "cell_type": "code",
   "execution_count": 21,
   "id": "43d6ba8a-39ec-4611-83f6-6f7a25ed8477",
   "metadata": {},
   "outputs": [],
   "source": [
    "from sklearn.metrics import r2_score"
   ]
  },
  {
   "cell_type": "code",
   "execution_count": 22,
   "id": "bfd9c7b7-6145-4029-b3ab-a1603c8b1075",
   "metadata": {},
   "outputs": [],
   "source": [
    "y_head = linear_reg.predict(x)"
   ]
  },
  {
   "cell_type": "code",
   "execution_count": 23,
   "id": "0b6c0bf1-6d68-4b58-99bc-3f484fe1fcb7",
   "metadata": {},
   "outputs": [
    {
     "data": {
      "text/plain": [
       "0.9775283164949902"
      ]
     },
     "execution_count": 23,
     "metadata": {},
     "output_type": "execute_result"
    }
   ],
   "source": [
    "r2_score(y, y_head)"
   ]
  },
  {
   "cell_type": "code",
   "execution_count": null,
   "id": "c1827e56-7681-47b6-b518-06a8bea68f8d",
   "metadata": {},
   "outputs": [],
   "source": []
  }
 ],
 "metadata": {
  "kernelspec": {
   "display_name": "Python 3 (ipykernel)",
   "language": "python",
   "name": "python3"
  },
  "language_info": {
   "codemirror_mode": {
    "name": "ipython",
    "version": 3
   },
   "file_extension": ".py",
   "mimetype": "text/x-python",
   "name": "python",
   "nbconvert_exporter": "python",
   "pygments_lexer": "ipython3",
   "version": "3.9.13"
  }
 },
 "nbformat": 4,
 "nbformat_minor": 5
}
